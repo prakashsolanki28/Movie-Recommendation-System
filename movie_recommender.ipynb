{
 "cells": [
  {
   "cell_type": "code",
   "execution_count": 1,
   "id": "a094f5c2",
   "metadata": {},
   "outputs": [],
   "source": [
    "import numpy as np\n",
    "import pandas as pd"
   ]
  },
  {
   "cell_type": "code",
   "execution_count": 2,
   "id": "95629265",
   "metadata": {},
   "outputs": [],
   "source": [
    "movies = pd.read_csv(\"tmdb_5000_movies.csv\")\n",
    "credits = pd.read_csv(\"tmdb_5000_credits.csv\")"
   ]
  },
  {
   "cell_type": "code",
   "execution_count": 3,
   "id": "0c92b4db",
   "metadata": {},
   "outputs": [],
   "source": [
    "movies = movies.merge(credits,on=\"title\")"
   ]
  },
  {
   "cell_type": "code",
   "execution_count": 4,
   "id": "7dc5e5f0",
   "metadata": {},
   "outputs": [],
   "source": [
    "movies = movies[['movie_id','title','overview','genres','keywords','cast','crew']]"
   ]
  },
  {
   "cell_type": "code",
   "execution_count": 5,
   "id": "8b1bc1c4",
   "metadata": {},
   "outputs": [],
   "source": [
    "movies.dropna(inplace=True)  # remove all null values data"
   ]
  },
  {
   "cell_type": "code",
   "execution_count": 6,
   "id": "037a91ac",
   "metadata": {},
   "outputs": [
    {
     "data": {
      "text/plain": [
       "0"
      ]
     },
     "execution_count": 6,
     "metadata": {},
     "output_type": "execute_result"
    }
   ],
   "source": [
    "movies.duplicated().sum()   # check duplicates"
   ]
  },
  {
   "cell_type": "code",
   "execution_count": 7,
   "id": "b99e13f0",
   "metadata": {},
   "outputs": [],
   "source": [
    "def HelperForProcessing(obj):\n",
    "    listData = []\n",
    "    for data in ast.literal_eval(obj):\n",
    "        listData.append(data['name'])\n",
    "    return listData"
   ]
  },
  {
   "cell_type": "code",
   "execution_count": 8,
   "id": "2e61b582",
   "metadata": {},
   "outputs": [],
   "source": [
    "import ast"
   ]
  },
  {
   "cell_type": "code",
   "execution_count": 9,
   "id": "ec5eb4e3",
   "metadata": {},
   "outputs": [],
   "source": [
    "movies['genres'] = movies['genres'].apply(HelperForProcessing)"
   ]
  },
  {
   "cell_type": "code",
   "execution_count": 10,
   "id": "a6cb4d0f",
   "metadata": {},
   "outputs": [],
   "source": [
    "movies['keywords'] = movies['keywords'].apply(HelperForProcessing)"
   ]
  },
  {
   "cell_type": "code",
   "execution_count": 11,
   "id": "064a009f",
   "metadata": {},
   "outputs": [],
   "source": [
    "def get5Cast(obj):\n",
    "    listData = []\n",
    "    temp = 0\n",
    "    for data in ast.literal_eval(obj):\n",
    "        if temp > 5:\n",
    "            break\n",
    "        listData.append(data['name'])\n",
    "        temp+=1\n",
    "    return listData"
   ]
  },
  {
   "cell_type": "code",
   "execution_count": 12,
   "id": "3a098388",
   "metadata": {},
   "outputs": [],
   "source": [
    "movies['cast'] = movies['cast'].apply(get5Cast)"
   ]
  },
  {
   "cell_type": "code",
   "execution_count": 13,
   "id": "c43ea314",
   "metadata": {},
   "outputs": [],
   "source": [
    "def getDirector(obj):\n",
    "    listdata = []\n",
    "    for data in ast.literal_eval(obj):\n",
    "        if data['job'] == 'Director':\n",
    "            listdata.append(data['name'])\n",
    "            break\n",
    "    return listdata"
   ]
  },
  {
   "cell_type": "code",
   "execution_count": 14,
   "id": "f8fdf395",
   "metadata": {},
   "outputs": [],
   "source": [
    "movies['crew'] = movies['crew'].apply(getDirector)"
   ]
  },
  {
   "cell_type": "code",
   "execution_count": 15,
   "id": "e511f4cd",
   "metadata": {},
   "outputs": [],
   "source": [
    "movies['overview'] = movies['overview'].apply(lambda x: x.split())"
   ]
  },
  {
   "cell_type": "code",
   "execution_count": 16,
   "id": "6183a769",
   "metadata": {},
   "outputs": [],
   "source": [
    "movies['genres'] = movies['genres'].apply(lambda x:[i.replace(\" \",\"\") for i in x])\n",
    "movies['keywords'] = movies['keywords'].apply(lambda x:[i.replace(\" \",\"\") for i in x])\n",
    "movies['cast'] = movies['cast'].apply(lambda x:[i.replace(\" \",\"\") for i in x])\n",
    "movies['crew'] = movies['crew'].apply(lambda x:[i.replace(\" \",\"\") for i in x])"
   ]
  },
  {
   "cell_type": "code",
   "execution_count": 17,
   "id": "1dc6206f",
   "metadata": {},
   "outputs": [],
   "source": [
    "movies['tags'] = movies['overview'] + movies['genres']+ movies['keywords'] + movies['cast'] + movies['crew']"
   ]
  },
  {
   "cell_type": "code",
   "execution_count": 18,
   "id": "b8e68a4a",
   "metadata": {},
   "outputs": [],
   "source": [
    "data_frame = movies[['movie_id','title','tags']]"
   ]
  },
  {
   "cell_type": "code",
   "execution_count": 19,
   "id": "5c17b231",
   "metadata": {},
   "outputs": [
    {
     "name": "stderr",
     "output_type": "stream",
     "text": [
      "C:\\Users\\praka\\AppData\\Local\\Temp\\ipykernel_9084\\674701807.py:1: SettingWithCopyWarning: \n",
      "A value is trying to be set on a copy of a slice from a DataFrame.\n",
      "Try using .loc[row_indexer,col_indexer] = value instead\n",
      "\n",
      "See the caveats in the documentation: https://pandas.pydata.org/pandas-docs/stable/user_guide/indexing.html#returning-a-view-versus-a-copy\n",
      "  data_frame['tags'] = data_frame['tags'].apply(lambda x:\" \".join(x))\n"
     ]
    }
   ],
   "source": [
    "data_frame['tags'] = data_frame['tags'].apply(lambda x:\" \".join(x))"
   ]
  },
  {
   "cell_type": "code",
   "execution_count": 20,
   "id": "7f75da56",
   "metadata": {},
   "outputs": [],
   "source": [
    "import nltk"
   ]
  },
  {
   "cell_type": "code",
   "execution_count": 21,
   "id": "a37a2ffd",
   "metadata": {},
   "outputs": [],
   "source": [
    "from nltk.stem.porter import PorterStemmer\n",
    "ps = PorterStemmer()"
   ]
  },
  {
   "cell_type": "code",
   "execution_count": 22,
   "id": "89b325be",
   "metadata": {},
   "outputs": [],
   "source": [
    "def stem(text):\n",
    "    data = []\n",
    "    for word in text.split():\n",
    "        data.append(ps.stem(word))\n",
    "    \n",
    "    return \" \".join(data)"
   ]
  },
  {
   "cell_type": "code",
   "execution_count": 23,
   "id": "6d82682c",
   "metadata": {},
   "outputs": [
    {
     "name": "stderr",
     "output_type": "stream",
     "text": [
      "C:\\Users\\praka\\AppData\\Local\\Temp\\ipykernel_9084\\2955560100.py:1: SettingWithCopyWarning: \n",
      "A value is trying to be set on a copy of a slice from a DataFrame.\n",
      "Try using .loc[row_indexer,col_indexer] = value instead\n",
      "\n",
      "See the caveats in the documentation: https://pandas.pydata.org/pandas-docs/stable/user_guide/indexing.html#returning-a-view-versus-a-copy\n",
      "  data_frame['tags'] = data_frame['tags'].apply(stem)\n"
     ]
    }
   ],
   "source": [
    "data_frame['tags'] = data_frame['tags'].apply(stem)"
   ]
  },
  {
   "cell_type": "code",
   "execution_count": 24,
   "id": "2099766f",
   "metadata": {},
   "outputs": [
    {
     "name": "stderr",
     "output_type": "stream",
     "text": [
      "C:\\Users\\praka\\AppData\\Local\\Temp\\ipykernel_9084\\3079620373.py:1: SettingWithCopyWarning: \n",
      "A value is trying to be set on a copy of a slice from a DataFrame.\n",
      "Try using .loc[row_indexer,col_indexer] = value instead\n",
      "\n",
      "See the caveats in the documentation: https://pandas.pydata.org/pandas-docs/stable/user_guide/indexing.html#returning-a-view-versus-a-copy\n",
      "  data_frame['tags'] = data_frame['tags'].apply(lambda x: x.lower())\n"
     ]
    }
   ],
   "source": [
    "data_frame['tags'] = data_frame['tags'].apply(lambda x: x.lower())"
   ]
  },
  {
   "cell_type": "code",
   "execution_count": 25,
   "id": "0824294e",
   "metadata": {},
   "outputs": [],
   "source": [
    "from sklearn.feature_extraction.text import CountVectorizer\n",
    "cv = CountVectorizer(max_features=5000, stop_words='english')"
   ]
  },
  {
   "cell_type": "code",
   "execution_count": 26,
   "id": "d1305fc0",
   "metadata": {},
   "outputs": [],
   "source": [
    "vectors = cv.fit_transform(data_frame['tags']).toarray()"
   ]
  },
  {
   "cell_type": "code",
   "execution_count": 27,
   "id": "78498158",
   "metadata": {},
   "outputs": [],
   "source": [
    "from sklearn.metrics.pairwise import cosine_similarity"
   ]
  },
  {
   "cell_type": "code",
   "execution_count": 28,
   "id": "b2fc6f89",
   "metadata": {},
   "outputs": [],
   "source": [
    "similarity = cosine_similarity(vectors)"
   ]
  },
  {
   "cell_type": "code",
   "execution_count": 29,
   "id": "1de26268",
   "metadata": {},
   "outputs": [
    {
     "data": {
      "text/plain": [
       "[(12, 0.420210157631365),\n",
       " (199, 0.2684624220856097),\n",
       " (17, 0.23923566684866998),\n",
       " (3572, 0.20134681656420733),\n",
       " (216, 0.19344776406574832)]"
      ]
     },
     "execution_count": 29,
     "metadata": {},
     "output_type": "execute_result"
    }
   ],
   "source": [
    "sorted(list(enumerate(similarity[1])),reverse=True,key=lambda x: x[1])[1:6]"
   ]
  },
  {
   "cell_type": "code",
   "execution_count": 30,
   "id": "319d537f",
   "metadata": {},
   "outputs": [],
   "source": [
    "def recommended(movie):\n",
    "    movie_index = data_frame[data_frame['title'] == movie].index[0]\n",
    "    distance = similarity[movie_index]\n",
    "    movies_list = sorted(list(enumerate(distance)),reverse=True,key=lambda x: x[1])[1:6]\n",
    "    \n",
    "    for i in movies_list:\n",
    "        print(data_frame.iloc[i[0]].title)\n",
    "    "
   ]
  },
  {
   "cell_type": "code",
   "execution_count": 32,
   "id": "7b868106",
   "metadata": {},
   "outputs": [
    {
     "name": "stdout",
     "output_type": "stream",
     "text": [
      "The Dark Knight\n",
      "Batman\n",
      "Batman\n",
      "The Dark Knight Rises\n",
      "Rockaway\n"
     ]
    }
   ],
   "source": [
    "recommended('Batman Begins')"
   ]
  },
  {
   "cell_type": "code",
   "execution_count": 168,
   "id": "e96ea864",
   "metadata": {},
   "outputs": [],
   "source": [
    "import pickle"
   ]
  },
  {
   "cell_type": "code",
   "execution_count": 169,
   "id": "9348e4f6",
   "metadata": {},
   "outputs": [],
   "source": [
    "pickle.dump(data_frame,open('test.pkl','wb'))"
   ]
  },
  {
   "cell_type": "code",
   "execution_count": 170,
   "id": "cd04c564",
   "metadata": {},
   "outputs": [],
   "source": [
    "pickle.dump(similarity,open('similarity.pkl','wb'))"
   ]
  }
 ],
 "metadata": {
  "kernelspec": {
   "display_name": "Python 3 (ipykernel)",
   "language": "python",
   "name": "python3"
  },
  "language_info": {
   "codemirror_mode": {
    "name": "ipython",
    "version": 3
   },
   "file_extension": ".py",
   "mimetype": "text/x-python",
   "name": "python",
   "nbconvert_exporter": "python",
   "pygments_lexer": "ipython3",
   "version": "3.11.5"
  }
 },
 "nbformat": 4,
 "nbformat_minor": 5
}
